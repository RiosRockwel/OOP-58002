{
  "nbformat": 4,
  "nbformat_minor": 0,
  "metadata": {
    "colab": {
      "name": "Untitled",
      "provenance": [],
      "authorship_tag": "ABX9TyM9Ta7lkMWkR7OBhYGxcz3v",
      "include_colab_link": true
    },
    "kernelspec": {
      "name": "python3",
      "display_name": "Python 3"
    },
    "language_info": {
      "name": "python"
    }
  },
  "cells": [
    {
      "cell_type": "markdown",
      "metadata": {
        "id": "view-in-github",
        "colab_type": "text"
      },
      "source": [
        "<a href=\"https://colab.research.google.com/github/Rockwel09/OOP-58002/blob/main/Boolean.ipynb\" target=\"_parent\"><img src=\"https://colab.research.google.com/assets/colab-badge.svg\" alt=\"Open In Colab\"/></a>"
      ]
    },
    {
      "cell_type": "markdown",
      "source": [
        "Boolean Operators"
      ],
      "metadata": {
        "id": "2QzFtkYeR3Kx"
      }
    },
    {
      "cell_type": "code",
      "execution_count": 1,
      "metadata": {
        "colab": {
          "base_uri": "https://localhost:8080/"
        },
        "id": "kwOWECa8Rw3z",
        "outputId": "78028364-bdcf-4412-dbd7-59362196f437"
      },
      "outputs": [
        {
          "output_type": "stream",
          "name": "stdout",
          "text": [
            "True\n",
            "False\n",
            "True\n"
          ]
        }
      ],
      "source": [
        "a = 7\n",
        "b = 6\n",
        "\n",
        "print(10>9)\n",
        "print(10<9)\n",
        "print(a>b)"
      ]
    },
    {
      "cell_type": "markdown",
      "source": [
        "Bool () Function"
      ],
      "metadata": {
        "id": "5p8Zw5FqR8xF"
      }
    },
    {
      "cell_type": "code",
      "source": [
        "print(bool(\"Rockwel\"))\n",
        "print(bool(1))\n",
        "print(bool(0))\n",
        "print(bool(None))\n",
        "print(bool(False))\n",
        "print(bool(True))"
      ],
      "metadata": {
        "colab": {
          "base_uri": "https://localhost:8080/"
        },
        "id": "BbcyeCpVR_bO",
        "outputId": "71d5c101-4f62-4e24-cbda-9847941d3eb4"
      },
      "execution_count": 2,
      "outputs": [
        {
          "output_type": "stream",
          "name": "stdout",
          "text": [
            "True\n",
            "True\n",
            "False\n",
            "False\n",
            "False\n",
            "True\n"
          ]
        }
      ]
    },
    {
      "cell_type": "markdown",
      "source": [
        "Function can return a Boolean"
      ],
      "metadata": {
        "id": "9Ip1_1TRSB5d"
      }
    },
    {
      "cell_type": "code",
      "source": [
        "def my_Function():\n",
        " return True\n",
        "print(my_Function())"
      ],
      "metadata": {
        "colab": {
          "base_uri": "https://localhost:8080/"
        },
        "id": "P2FgTmGgSIGh",
        "outputId": "4a4b8a9e-3249-465d-c8db-13aa4787e4b0"
      },
      "execution_count": 3,
      "outputs": [
        {
          "output_type": "stream",
          "name": "stdout",
          "text": [
            "True\n"
          ]
        }
      ]
    },
    {
      "cell_type": "code",
      "source": [
        "if my_Function():\n",
        "  print(\"True\")\n",
        "else:\n",
        "  print(\"False\")"
      ],
      "metadata": {
        "colab": {
          "base_uri": "https://localhost:8080/"
        },
        "id": "qCQm3WtGSK0T",
        "outputId": "d081eff9-9fde-4f04-ee74-c370991585f5"
      },
      "execution_count": 4,
      "outputs": [
        {
          "output_type": "stream",
          "name": "stdout",
          "text": [
            "True\n"
          ]
        }
      ]
    },
    {
      "cell_type": "markdown",
      "source": [
        "Application 1"
      ],
      "metadata": {
        "id": "fGFSJJ2YSN1Y"
      }
    },
    {
      "cell_type": "code",
      "source": [
        "print (10>9)\n",
        "\n",
        "a=6\n",
        "b=7\n",
        "\n",
        "print(a==b)\n",
        "print(a!=b)"
      ],
      "metadata": {
        "colab": {
          "base_uri": "https://localhost:8080/"
        },
        "id": "UpLz1zUzSOzr",
        "outputId": "2624d787-c821-4342-d9f8-c34e4cecc153"
      },
      "execution_count": 5,
      "outputs": [
        {
          "output_type": "stream",
          "name": "stdout",
          "text": [
            "True\n",
            "False\n",
            "True\n"
          ]
        }
      ]
    },
    {
      "cell_type": "markdown",
      "source": [
        "Phyton Operators"
      ],
      "metadata": {
        "id": "Hq1gfb9xSQyg"
      }
    },
    {
      "cell_type": "code",
      "source": [
        "print(10+5)\n",
        "print(10-5)\n",
        "print(10/3)\n",
        "print(10*5)\n",
        "print(10%5)\n",
        "print(10//3)   #10/3 = 3.3333\n",
        "print(10**2)"
      ],
      "metadata": {
        "colab": {
          "base_uri": "https://localhost:8080/"
        },
        "id": "m-1XLRXSSS2r",
        "outputId": "ee1df288-61fd-4b28-d44f-6223b340be05"
      },
      "execution_count": 6,
      "outputs": [
        {
          "output_type": "stream",
          "name": "stdout",
          "text": [
            "15\n",
            "5\n",
            "3.3333333333333335\n",
            "50\n",
            "0\n",
            "3\n",
            "100\n"
          ]
        }
      ]
    },
    {
      "cell_type": "markdown",
      "source": [
        "Bitwise Operators"
      ],
      "metadata": {
        "id": "c5e56epDSVfr"
      }
    },
    {
      "cell_type": "code",
      "source": [
        "c = 60 # binary 0011 1100\n",
        "d = 13 # binary 0000 1101\n",
        "\n",
        "c&d\n",
        "print(c|d)\n",
        "print(c^d)\n",
        "\n",
        "print(d<<2)"
      ],
      "metadata": {
        "colab": {
          "base_uri": "https://localhost:8080/"
        },
        "id": "u3AZn0_-SWwQ",
        "outputId": "8ee501f3-ee2c-456c-e138-916dc1c51c17"
      },
      "execution_count": 7,
      "outputs": [
        {
          "output_type": "stream",
          "name": "stdout",
          "text": [
            "61\n",
            "49\n",
            "52\n"
          ]
        }
      ]
    },
    {
      "cell_type": "markdown",
      "source": [
        "Logical Operators"
      ],
      "metadata": {
        "id": "smxiDayVSZiX"
      }
    },
    {
      "cell_type": "code",
      "source": [
        "h = True\n",
        "l = False\n",
        "h and l \n",
        "h or l\n",
        "not(h or l) "
      ],
      "metadata": {
        "colab": {
          "base_uri": "https://localhost:8080/"
        },
        "id": "amNFU5qTSaxV",
        "outputId": "bd18eba7-28a2-486c-a23c-5b9f536c19e2"
      },
      "execution_count": 8,
      "outputs": [
        {
          "output_type": "execute_result",
          "data": {
            "text/plain": [
              "False"
            ]
          },
          "metadata": {},
          "execution_count": 8
        }
      ]
    }
  ]
}