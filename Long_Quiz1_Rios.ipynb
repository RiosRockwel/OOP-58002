{
  "nbformat": 4,
  "nbformat_minor": 0,
  "metadata": {
    "colab": {
      "name": "Long-Quiz1_Rios.ipynb",
      "provenance": [],
      "authorship_tag": "ABX9TyMtHfm9Zqwxwe079Oh9m2B4",
      "include_colab_link": true
    },
    "kernelspec": {
      "name": "python3",
      "display_name": "Python 3"
    },
    "language_info": {
      "name": "python"
    }
  },
  "cells": [
    {
      "cell_type": "markdown",
      "metadata": {
        "id": "view-in-github",
        "colab_type": "text"
      },
      "source": [
        "<a href=\"https://colab.research.google.com/github/Rockwel09/OOP-58002/blob/main/Long_Quiz1_Rios.ipynb\" target=\"_parent\"><img src=\"https://colab.research.google.com/assets/colab-badge.svg\" alt=\"Open In Colab\"/></a>"
      ]
    },
    {
      "cell_type": "code",
      "execution_count": null,
      "metadata": {
        "colab": {
          "base_uri": "https://localhost:8080/"
        },
        "id": "rdG673WPWSuj",
        "outputId": "5a21a7ca-2f12-4cb9-9c58-0cb2d7bf7349"
      },
      "outputs": [
        {
          "output_type": "stream",
          "name": "stdout",
          "text": [
            "Insert a Temperature in Celsius: 37\n",
            "98.6\n"
          ]
        }
      ],
      "source": [
        "class Temperature():   #Convert celsius to fahrenheit \n",
        "  def __init__(self,Celsius):\n",
        "    self.Celsius = Celsius\n",
        "  \n",
        "  def Fahrenheit(self):\n",
        "    result = float((9 * self.Celsius) / 5 + 32) #Formula given to find the fahrenheit\n",
        "    return result\n",
        "\n",
        "#input the value to get the print out and exact value\n",
        "input_Temperature = float(input(\"Temperature in Celsius: \"))\n",
        "Temperature1 = Temperature(input_Temperature)\n",
        "\n",
        "print(Temperature1.Fahrenheit())  #final result"
      ]
    }
  ]
}