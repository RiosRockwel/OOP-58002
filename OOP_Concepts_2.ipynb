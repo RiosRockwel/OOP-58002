{
  "nbformat": 4,
  "nbformat_minor": 0,
  "metadata": {
    "colab": {
      "name": "Untitled2.ipynb",
      "provenance": [],
      "authorship_tag": "ABX9TyPwwf5LqbDkDox/w3vy9dJ2",
      "include_colab_link": true
    },
    "kernelspec": {
      "name": "python3",
      "display_name": "Python 3"
    },
    "language_info": {
      "name": "python"
    }
  },
  "cells": [
    {
      "cell_type": "markdown",
      "metadata": {
        "id": "view-in-github",
        "colab_type": "text"
      },
      "source": [
        "<a href=\"https://colab.research.google.com/github/Rockwel09/OOP-58002/blob/main/OOP_Concepts_2.ipynb\" target=\"_parent\"><img src=\"https://colab.research.google.com/assets/colab-badge.svg\" alt=\"Open In Colab\"/></a>"
      ]
    },
    {
      "cell_type": "markdown",
      "source": [
        "Classes with multiple Objects"
      ],
      "metadata": {
        "id": "VCo5XR8tmOr_"
      }
    },
    {
      "cell_type": "code",
      "source": [
        "class Birds:\n",
        "  def __init__(self,bird_name):\n",
        "    self.bird_name = bird_name\n",
        "  def flying_birds(self):\n",
        "    print(f\"{self.bird_name} flies above clouds\")\n",
        "  def non_flying_birds(self):\n",
        "    print(f\"{self.bird_name} is the national bird of the Philippines\")\n",
        "  \n",
        "vulture = Birds(\"Griffon Vulture\")\n",
        "crane = Birds(\"Common Crane\")\n",
        "emu = Birds (\"Eagle\")\n",
        "\n",
        "vulture.flying_birds()\n",
        "crane.flying_birds()\n",
        "emu.non_flying_birds()"
      ],
      "metadata": {
        "id": "R8F3BD9nmPiK"
      },
      "execution_count": null,
      "outputs": []
    },
    {
      "cell_type": "markdown",
      "source": [
        "Encapulation with Private Attributes"
      ],
      "metadata": {
        "id": "o3QEnEtXmP7q"
      }
    },
    {
      "cell_type": "code",
      "source": [
        "class foo:\n",
        "  def __init__(self,a,b):\n",
        "    self._a = a\n",
        "    self._b = b\n",
        "  def add(self):\n",
        "    return self._a +self._b\n",
        "foo_object = foo(3,4)\n",
        "#foo_object.add()\n",
        "\n",
        "foo_object.a=6\n",
        "foo_object.add()"
      ],
      "metadata": {
        "id": "xhc7Z-HjmQyv"
      },
      "execution_count": null,
      "outputs": []
    },
    {
      "cell_type": "markdown",
      "source": [
        "Encapsulation by Mangling with Double Underscores"
      ],
      "metadata": {
        "id": "2pjSApR7mRJB"
      }
    },
    {
      "cell_type": "code",
      "source": [
        "class Counter:\n",
        "    def __init__(self):\n",
        "        self.current = 0\n",
        "\n",
        "    def increment(self):\n",
        "        self.current += 1\n",
        "\n",
        "    def value(self):\n",
        "        return self.current\n",
        "\n",
        "    def reset(self):\n",
        "        self.current = 0\n",
        "\n",
        "counter = Counter()\n",
        "\n",
        "\n",
        "counter.increment()\n",
        "counter.increment()\n",
        "counter.increment()\n",
        "\n",
        "print(counter.value())"
      ],
      "metadata": {
        "id": "N0uXwMhomRaz"
      },
      "execution_count": null,
      "outputs": []
    },
    {
      "cell_type": "markdown",
      "source": [
        "Inheritance"
      ],
      "metadata": {
        "id": "j7aTyPk3mRwq"
      }
    },
    {
      "cell_type": "code",
      "source": [
        "class Person:\n",
        "  def __init__(self,fname,sname):\n",
        "    self.fname = fname\n",
        "    self.sname = sname\n",
        "  def printname(self):\n",
        "    print(self.fname,self.sname)\n",
        "\n",
        "x = Person(\"Rockwel Chester Dy\",\"Rios\")\n",
        "x.printname()\n",
        "\n",
        "class Teacher(Person):\n",
        "  pass\n",
        "\n",
        "x = Teacher(\"Rizette\", \"Sayo\")\n",
        "x.printname()"
      ],
      "metadata": {
        "id": "KDYi5HddmSDF"
      },
      "execution_count": null,
      "outputs": []
    },
    {
      "cell_type": "markdown",
      "source": [
        "Polymorphism"
      ],
      "metadata": {
        "id": "yJDPKXM0mSZP"
      }
    },
    {
      "cell_type": "code",
      "source": [
        "class RegularPolygon:\n",
        "  def __init__(self,side):\n",
        "    self._side = side\n",
        "class Square(RegularPolygon):\n",
        "  def area(self):\n",
        "    return self._side * self._side\n",
        "class EquilateralTriangle(RegularPolygon):\n",
        "  def area(self):\n",
        "    return self._side * self._side * 0.433\n",
        "\n",
        "obj1 = Square(4)\n",
        "obj2 = EquilateralTriangle(3)\n",
        "\n",
        "obj1.area()\n",
        "obj2.area()"
      ],
      "metadata": {
        "id": "9aQs5wLbmSsC"
      },
      "execution_count": null,
      "outputs": []
    },
    {
      "cell_type": "markdown",
      "source": [
        "Application 1 - 30% Prelims, 30% Midterms, 40% Final = Sem Grade\n",
        "\n",
        "Create a Python program that displays the name of 3 students (Student 1, Student 2, Student 3) and their grades\n",
        "Create a class name \"Person\" and attributes - std1, std2, std3, pre, mid, fin\n",
        "Compute for the average grade of each term using Grade() method\n",
        "Information about student's grades must be hidden from others"
      ],
      "metadata": {
        "id": "k4sP1KKbmS_2"
      }
    },
    {
      "cell_type": "code",
      "source": [
        "import random\n",
        "\n",
        "class Person:\n",
        "  def __init__ (self, student, pre, mid, fin):\n",
        "    self.student = student\n",
        "    self.pre = pre *0.30\n",
        "    self.mid = mid *0.30\n",
        "    self.fin = fin *0.40\n",
        "\n",
        "  def Grade (self):\n",
        "    print (self.student, \"has an average grade of\", self.pre, \"in Prelims\")\n",
        "    print (self.student, \"has an average grade of\", self.mid, \"in Midterms\")\n",
        "    print (self.student, \"has an average grade of\", self.fin, \"in Finals\")\n",
        "\n",
        "std1 = Person (\"Rios\", random.randint(70,100), random.randint(70,100), random.randint(70,100))\n",
        "std2 = Person (\"Rockwel\", random.randint(70,100), random.randint(70,100), random.randint(70,100))\n",
        "std3 = Person (\"Chester\", random.randint(70,100), random.randint(70,100), random.randint(70,100))\n",
        "\n",
        "std1.Grade()"
      ],
      "metadata": {
        "id": "Jm3ttRuKmTUE"
      },
      "execution_count": null,
      "outputs": []
    }
  ]
}