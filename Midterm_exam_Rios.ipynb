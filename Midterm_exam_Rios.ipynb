{
  "nbformat": 4,
  "nbformat_minor": 0,
  "metadata": {
    "colab": {
      "name": "Midterm_exam_Rios.ipynb",
      "provenance": [],
      "authorship_tag": "ABX9TyO+pAjm/5K2cMa9pHyWVybB",
      "include_colab_link": true
    },
    "kernelspec": {
      "name": "python3",
      "display_name": "Python 3"
    },
    "language_info": {
      "name": "python"
    }
  },
  "cells": [
    {
      "cell_type": "markdown",
      "metadata": {
        "id": "view-in-github",
        "colab_type": "text"
      },
      "source": [
        "<a href=\"https://colab.research.google.com/github/Rockwel09/OOP-58002/blob/main/Midterm_exam_Rios.ipynb\" target=\"_parent\"><img src=\"https://colab.research.google.com/assets/colab-badge.svg\" alt=\"Open In Colab\"/></a>"
      ]
    },
    {
      "cell_type": "markdown",
      "source": [
        "Program 1: Modify the program below by adding two conversion methods - Fahrenheit to Celsius and Kelvin to Celsius (50 points)\n",
        "\n",
        "\n",
        "\n",
        "def main():\n",
        "\n",
        "  \n",
        "\n",
        " class TemperatureConversion:\n",
        "\n",
        "  def __init__(self, temp=1):\n",
        "\n",
        "   self._temp = temp\n",
        "\n",
        " class CelsiusToFahrenheit(TemperatureConversion):\n",
        "\n",
        "  def conversion(self):\n",
        "\n",
        "   return (self._temp * 9) / 5 + 32\n",
        "\n",
        " class CelsiusToKelvin(TemperatureConversion):\n",
        "\n",
        "  def conversion(self):\n",
        "\n",
        "   return self._temp + 273.15\n",
        "\n",
        " tempInCelsius = float(input(\"Enter the temperature in Celsius: \"))\n",
        "\n",
        " convert = CelsiusToKelvin(tempInCelsius)\n",
        "\n",
        " print(str(convert.conversion()) + \" Kelvin\")\n",
        "\n",
        " convert = CelsiusToFahrenheit(tempInCelsius)\n",
        "\n",
        " print(str(convert.conversion()) + \" Fahrenheit\")\n",
        "\n",
        "\n",
        "\n",
        "main()"
      ],
      "metadata": {
        "id": "44PFBctte8x7"
      }
    },
    {
      "cell_type": "code",
      "execution_count": null,
      "metadata": {
        "id": "D_38grZYdfd9"
      },
      "outputs": [],
      "source": [
        "def main():\n",
        "\n",
        "\n",
        "\n",
        " class CoversionTemperature:\n",
        "\n",
        "  def __init__(self, temp=1):\n",
        "\n",
        "   self._temp = temp\n",
        "\n",
        " class FahrenheitToCelcius(CoversionTemperature):\n",
        "\n",
        "  def conversion(self):\n",
        "\n",
        "   return (self._temp - 32) * 5 / 9\n",
        "\n",
        " class KelvinToCelcius(CoversionTemperature):\n",
        "\n",
        "  def conversion(self):\n",
        "\n",
        "   return self._temp - 273.15\n",
        "\n",
        " tempKelvin = float(input(\"Temperature in Kelvin: \"))\n",
        " \n",
        " tempFarenheit = float(input(\"Temperature in Farenheit: \"))\n",
        "\n",
        " convert = KelvinToCelcius(tempKelvin)\n",
        "\n",
        " print(str(convert.conversion()) + \" Celcius from Kelvin\")\n",
        "\n",
        " convert = FahrenheitToCelcius(tempFarenheit)\n",
        "\n",
        " print(str(convert.conversion()) + \" Celcius From Fahrenheit\")\n",
        "\n",
        "\n",
        "\n",
        "main()"
      ]
    }
  ]
}