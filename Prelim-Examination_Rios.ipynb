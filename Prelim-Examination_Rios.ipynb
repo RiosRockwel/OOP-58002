{
  "nbformat": 4,
  "nbformat_minor": 0,
  "metadata": {
    "colab": {
      "name": "Untitled1.ipynb",
      "provenance": [],
      "authorship_tag": "ABX9TyMDygnxIfDAGcmnNBrflyLD",
      "include_colab_link": true
    },
    "kernelspec": {
      "name": "python3",
      "display_name": "Python 3"
    },
    "language_info": {
      "name": "python"
    }
  },
  "cells": [
    {
      "cell_type": "markdown",
      "metadata": {
        "id": "view-in-github",
        "colab_type": "text"
      },
      "source": [
        "<a href=\"https://colab.research.google.com/github/Rockwel09/OOP-58002/blob/main/Prelim-Examination_Rios.ipynb\" target=\"_parent\"><img src=\"https://colab.research.google.com/assets/colab-badge.svg\" alt=\"Open In Colab\"/></a>"
      ]
    },
    {
      "cell_type": "code",
      "source": [
        "class school:\n",
        "  pass"
      ],
      "metadata": {
        "id": "gfa6egB8LOPd"
      },
      "execution_count": null,
      "outputs": []
    },
    {
      "cell_type": "code",
      "execution_count": 5,
      "metadata": {
        "colab": {
          "base_uri": "https://localhost:8080/"
        },
        "id": "vaA51c9eI3rg",
        "outputId": "0d5ad610-d14b-4429-d24c-17b4ccd96da3"
      },
      "outputs": [
        {
          "output_type": "stream",
          "name": "stdout",
          "text": [
            "I am  Rios, Rockwel Chester D. I am 19 years old\n",
            "My student number would be 202119557\n",
            "I study at Adamson University\n",
            "with the course of Computer Engineering\n"
          ]
        }
      ],
      "source": [
        "class Person:\n",
        "  def __init__(self,student,number,age,school,course):\n",
        "    self.student = student\n",
        "    self.number = number\n",
        "    self.age = age\n",
        "    self.school = school\n",
        "    self.course = course\n",
        "  \n",
        "  def myFunction(self):\n",
        "    print(\"I am \",self.student,\"I am\",self.age,\"years old\")\n",
        "    print(\"My student number is\",self.number)\n",
        "    print(\"I study at\", self.school)\n",
        "    print(\"with the course of\", self.course)\n",
        "\n",
        "p1= Person(\"Rios, Rockwel Chester D.\", 202119557, 19, \"Adamson University\", \"Computer Engineering\")\n",
        "p1.myFunction()"
      ]
    },
    {
      "cell_type": "code",
      "source": [
        "class Person:\n",
        "  def __init__(self,student,number,age,school,course):\n",
        "    self.student = student\n",
        "    self.number = number\n",
        "    self.age = age\n",
        "    self.school = school\n",
        "    self.course = course\n",
        "\n",
        "  def description(self):\n",
        "     return \"My name is\" + self.student + \"with the student number\" + self.number + \"I am\" + self.age + \"I study at\" + self.school + \"with the course of \" + self.course\n",
        "\n",
        "  def show(self): \n",
        "   print(\"My name is\" + self.student + \"with the student number\" + self.number + \"I am\" + self.age + \"I study at\" + self.school + \"with the course of \" + self.course)\n",
        "\n",
        "p1 = person(\"Rockwel Chester D. Rios\",202119557,19,\"Adamason Univeristy\",\"Computer Engineering\")\n",
        "p1.show()"
      ],
      "metadata": {
        "colab": {
          "base_uri": "https://localhost:8080/",
          "height": 235
        },
        "id": "jlLA7MkrLSLm",
        "outputId": "516941b9-1e9f-441d-ff24-d3852fa9d8f2"
      },
      "execution_count": 15,
      "outputs": [
        {
          "output_type": "error",
          "ename": "NameError",
          "evalue": "ignored",
          "traceback": [
            "\u001b[0;31m---------------------------------------------------------------------------\u001b[0m",
            "\u001b[0;31mNameError\u001b[0m                                 Traceback (most recent call last)",
            "\u001b[0;32m<ipython-input-15-87c47f3d7b8a>\u001b[0m in \u001b[0;36m<module>\u001b[0;34m()\u001b[0m\n\u001b[1;32m     13\u001b[0m    \u001b[0mprint\u001b[0m\u001b[0;34m(\u001b[0m\u001b[0;34m\"My name is\"\u001b[0m \u001b[0;34m+\u001b[0m \u001b[0mself\u001b[0m\u001b[0;34m.\u001b[0m\u001b[0mstudent\u001b[0m \u001b[0;34m+\u001b[0m \u001b[0;34m\"with the student number\"\u001b[0m \u001b[0;34m+\u001b[0m \u001b[0mself\u001b[0m\u001b[0;34m.\u001b[0m\u001b[0mnumber\u001b[0m \u001b[0;34m+\u001b[0m \u001b[0;34m\"I am\"\u001b[0m \u001b[0;34m+\u001b[0m \u001b[0mself\u001b[0m\u001b[0;34m.\u001b[0m\u001b[0mage\u001b[0m \u001b[0;34m+\u001b[0m \u001b[0;34m\"I study at\"\u001b[0m \u001b[0;34m+\u001b[0m \u001b[0mself\u001b[0m\u001b[0;34m.\u001b[0m\u001b[0mschool\u001b[0m \u001b[0;34m+\u001b[0m \u001b[0;34m\"with the course of \"\u001b[0m \u001b[0;34m+\u001b[0m \u001b[0mself\u001b[0m\u001b[0;34m.\u001b[0m\u001b[0mcourse\u001b[0m\u001b[0;34m)\u001b[0m\u001b[0;34m\u001b[0m\u001b[0;34m\u001b[0m\u001b[0m\n\u001b[1;32m     14\u001b[0m \u001b[0;34m\u001b[0m\u001b[0m\n\u001b[0;32m---> 15\u001b[0;31m \u001b[0mp1\u001b[0m \u001b[0;34m=\u001b[0m \u001b[0mperson\u001b[0m\u001b[0;34m(\u001b[0m\u001b[0;34m\"Rockwel Chester D. Rios\"\u001b[0m\u001b[0;34m,\u001b[0m\u001b[0;36m202119557\u001b[0m\u001b[0;34m,\u001b[0m\u001b[0;36m19\u001b[0m\u001b[0;34m,\u001b[0m\u001b[0;34m\"Adamason Univeristy\"\u001b[0m\u001b[0;34m,\u001b[0m\u001b[0;34m\"Computer Engineering\"\u001b[0m\u001b[0;34m)\u001b[0m\u001b[0;34m\u001b[0m\u001b[0;34m\u001b[0m\u001b[0m\n\u001b[0m\u001b[1;32m     16\u001b[0m \u001b[0mp1\u001b[0m\u001b[0;34m.\u001b[0m\u001b[0mshow\u001b[0m\u001b[0;34m(\u001b[0m\u001b[0;34m)\u001b[0m\u001b[0;34m\u001b[0m\u001b[0;34m\u001b[0m\u001b[0m\n",
            "\u001b[0;31mNameError\u001b[0m: name 'person' is not defined"
          ]
        }
      ]
    }
  ]
}